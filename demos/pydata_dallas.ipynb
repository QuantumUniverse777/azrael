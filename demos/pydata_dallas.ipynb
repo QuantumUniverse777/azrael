{
 "metadata": {
  "name": ""
 },
 "nbformat": 3,
 "nbformat_minor": 0,
 "worksheets": [
  {
   "cells": [
    {
     "cell_type": "code",
     "collapsed": false,
     "input": [
      "# Boiler plate imports.\n",
      "import time\n",
      "%matplotlib inline\n",
      "import numpy as np\n",
      "import matplotlib.pyplot as plt\n",
      "\n",
      "# Demo module for PyData Dallas 2015 presentation.\n",
      "import pydata_dallas as pyda\n",
      "\n",
      "# At this point, demos/demo_boostercube.py *must* be running!\n",
      "\n",
      "# Connect to Azrael.\n",
      "client = pyda.PydataDallasClient()\n",
      "\n",
      "# Set the initial position and velocity of the cube.d\n",
      "client.setPositionAndVelocity(pos=[0, 0, 0], vel=[0,0,0])"
     ],
     "language": "python",
     "metadata": {},
     "outputs": [
      {
       "output_type": "stream",
       "stream": "stdout",
       "text": [
        "Connected\n"
       ]
      },
      {
       "metadata": {},
       "output_type": "pyout",
       "prompt_number": 1,
       "text": [
        "RetVal(ok=True, msg=None, data=None)"
       ]
      }
     ],
     "prompt_number": 1
    },
    {
     "cell_type": "code",
     "collapsed": false,
     "input": [
      "client.reset(imass=0.01)\n",
      "\n",
      "# Define the initial position of the ship.\n",
      "pos_init = [0, 0, 0]\n",
      "client.setPositionAndVelocity(pos=pos_init, vel=[0,0,0])\n",
      "\n",
      "# Desired position where the ship should end up.\n",
      "pos_ref = [0, 0, 10]\n",
      "\n",
      "# Timestep in seconds.\n",
      "dt = 0.2\n",
      "\n",
      "# Periodicaly query the postion, compute the error relative to the\n",
      "# desired reference position, and engage the thrusters accordingly.\n",
      "pos_log = [pos_init]\n",
      "for ii in range(70):\n",
      "    # Wait.\n",
      "    time.sleep(dt)\n",
      "\n",
      "    # Query current position and add it to the log.\n",
      "    p = client.getPosition()\n",
      "    pos_log.append(p)\n",
      "    \n",
      "    # Compute the position error and its slope.\n",
      "    err_val = pos_ref - pos_log[ii + 1]\n",
      "    err_slope = pos_log[ii + 1] - pos_log[ii]\n",
      "    \n",
      "    # Determine the booster output with a Proportional-Differential\n",
      "    # Controller.\n",
      "    force = 10 * err_val - 40 * err_slope\n",
      "\n",
      "    # Update the booster values\n",
      "    client.boosterForce(force=force)\n",
      "\n",
      "client.setPositionAndVelocity(pos=pos_init, vel=[0,0,0])\n",
      "time.sleep(0.2)\n",
      "client.reset()\n",
      "pos_log = client.controller(pos_ref, dt, 70)\n",
      "    \n",
      "# Plot the cube's x/y/z position over time.\n",
      "plt.plot(dt * np.arange(len(pos_log)), pos_log)\n",
      "plt.grid()\n",
      "plt.legend(('x', 'y', 'z'), loc='best')\n",
      "plt.xlabel('Time')\n",
      "plt.ylabel('Position')\n"
     ],
     "language": "python",
     "metadata": {},
     "outputs": []
    },
    {
     "cell_type": "code",
     "collapsed": false,
     "input": [
      "client.reset(imass=0.001)\n",
      "\n",
      "pos_init = [0, 0, 0]\n",
      "pos_desired = [0, 0, 12]\n",
      "\n",
      "client.setPositionAndVelocity(pos=pos_init, vel=[0, 0, 0])\n",
      "time.sleep(0.2)\n",
      "\n",
      "dt = 0.2\n",
      "\n",
      "pos_log = client.controller(pos_desired, dt, 200)    \n",
      "plt.plot(pos_log)\n",
      "plt.grid()\n",
      "    \n"
     ],
     "language": "python",
     "metadata": {},
     "outputs": [
      {
       "metadata": {},
       "output_type": "display_data",
       "png": "[encoded data removed]",
       "text": [
        "<matplotlib.figure.Figure at 0x7fc0476d74e0>"
       ]
      }
     ],
     "prompt_number": 8
    },
    {
     "cell_type": "code",
     "collapsed": false,
     "input": [
      "client.reset(imass=0.001)\n",
      "\n",
      "pos_init = [0,0,0]\n",
      "pos_desired = [0, 0, 12]\n",
      "\n",
      "client.setPositionAndVelocity(pos=pos_init, vel=[0,0,0])\n",
      "time.sleep(0.2)\n",
      "\n",
      "pos_log = [pos_init]\n",
      "\n",
      "for ii in range(50):\n",
      "    time.sleep(0.2)\n",
      "    p = client.getPosition()\n",
      "    pos_log.append(p)\n",
      "    \n",
      "    err_value = pos_desired - p\n",
      "    err_slope = pos_log[-1] - pos_log[-2]\n",
      "    \n",
      "    force = 10 * err_value - 40 * err_slope\n",
      "    client.boosterForce(force)\n",
      "    \n",
      "\n",
      "plt.plot(pos_log)\n",
      "plt.grid()"
     ],
     "language": "python",
     "metadata": {},
     "outputs": [
      {
       "metadata": {},
       "output_type": "display_data",
       "png": "[encoded data removed]",
       "text": [
        "<matplotlib.figure.Figure at 0x7fc0478d3d68>"
       ]
      }
     ],
     "prompt_number": 31
    },
    {
     "cell_type": "code",
     "collapsed": false,
     "input": [],
     "language": "python",
     "metadata": {},
     "outputs": []
    }
   ],
   "metadata": {}
  }
 ]
}